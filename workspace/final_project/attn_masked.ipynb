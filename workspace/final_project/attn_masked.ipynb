{
 "cells": [
  {
   "cell_type": "code",
   "execution_count": 1,
   "id": "28c41cff-8b49-4811-8813-250cec29b050",
   "metadata": {},
   "outputs": [],
   "source": [
    "from loaders import *"
   ]
  },
  {
   "cell_type": "code",
   "execution_count": 3,
   "id": "d42f73ae-3f50-49eb-8b2d-92eade8d97c4",
   "metadata": {},
   "outputs": [],
   "source": [
    "config = dict(\n",
    "    DRAM_factor_M=2048,\n",
    "    DRAM_factor_N=2048,\n",
    "    DRAM_factor_K=2048,\n",
    "    DRAM_permutation=['K', 'N', 'M'],\n",
    "    \n",
    "    ClusterArray_factor_M=1,\n",
    "    ClusterArray_factor_N=1,\n",
    "    ClusterArray_factor_K=1,\n",
    "    ClusterArray_permutation=['K', 'N', 'M'],\n",
    "    \n",
    "    GLB_Cluster_factor_M=1,\n",
    "    GLB_Cluster_factor_N=1,\n",
    "    GLB_Cluster_factor_K=1,\n",
    "    GLB_Cluster_permutation=['K', 'N', 'M'],\n",
    "\n",
    "    PE_Cluster_factor_M=1,\n",
    "    PE_Cluster_factor_N=1,\n",
    "    PE_Cluster_factor_K=1,\n",
    "    PE_Cluster_permutation=['K', 'N', 'M'],\n",
    "\n",
    "    iact_spad_factor_M=1,\n",
    "    iact_spad_factor_N=1,\n",
    "    iact_spad_factor_K=1,\n",
    "    iact_spad_permutation=['K', 'N', 'M'],\n",
    "\n",
    "    weight_spad_factor_M=1,\n",
    "    weight_spad_factor_N=1,\n",
    "    weight_spad_factor_K=1,\n",
    "    weight_spad_permutation=['K', 'N', 'M'],\n",
    "\n",
    "    psum_factor_M=1,\n",
    "    psum_factor_N=1,\n",
    "    psum_factor_K=1,\n",
    "    psum_permutation=['K', 'N', 'M'],\n",
    "\n",
    "    reg_factor_M=1,\n",
    "    reg_factor_N=1,\n",
    "    reg_factor_K=1,\n",
    "    reg_permutation=['K', 'N', 'M'],\n",
    "\n",
    "    density_weights=1, \n",
    "    density_inputs=1\n",
    ") "
   ]
  },
  {
   "cell_type": "code",
   "execution_count": 9,
   "id": "fb3125b9-1847-456e-bd0f-acfa16cdd4bb",
   "metadata": {},
   "outputs": [],
   "source": [
    "'''\n",
    "Modeling lower triangular matrices: \n",
    "|--|--|\n",
    "|Q1|Q2|\n",
    "|--|--|\n",
    "|Q4|Q3|\n",
    "|__|__|\n",
    "\n",
    "Q2: all-zeroes -- input density = 0\n",
    "Q4: input density = 1 (actual values)\n",
    "Q1 & Q3: input density = 0.5\n",
    "'''\n",
    "\n",
    "q1_config, q2_config, q4_config = config.copy(), config.copy(), config.copy()\n",
    "q1_config['density_inputs'] = 0.5\n",
    "q2_config['density_inputs'] = 0\n",
    "q4_config['density_inputs'] = 1.0"
   ]
  },
  {
   "cell_type": "code",
   "execution_count": null,
   "id": "646ad398-6af4-4071-a6d0-6f4f1c8ce607",
   "metadata": {},
   "outputs": [
    {
     "name": "stdout",
     "output_type": "stream",
     "text": [
      "[INFO] 2025-04-28 17:33:51,973 - pytimeloop.accelergy_interface - Running Accelergy with command: accelergy /home/workspace/final_project/output_dir/parsed-processed-input.yaml -o ./output_dir/ -v\n"
     ]
    },
    {
     "name": "stderr",
     "output_type": "stream",
     "text": [
      "INFO:pytimeloop.accelergy_interface:Running Accelergy with command: accelergy /home/workspace/final_project/output_dir/parsed-processed-input.yaml -o ./output_dir/ -v\n"
     ]
    }
   ],
   "source": [
    "q1_out = run_timeloop_model(\n",
    "    q1_config,\n",
    "    problem='designs/attention/quadrant_problem.yaml',\n",
    "    mapping='designs/baseline/baseline_mapping.yaml',\n",
    "    sparse_optimizations='designs/baseline/baseline_sparse_opt.yaml', \n",
    ")\n",
    "q1_stats = open('./output_dir/timeloop-model.stats.txt', 'r').read()"
   ]
  },
  {
   "cell_type": "code",
   "execution_count": null,
   "id": "5cbbd1e1-353e-43bc-81b2-c3d16cccd3c5",
   "metadata": {},
   "outputs": [],
   "source": []
  },
  {
   "cell_type": "code",
   "execution_count": null,
   "id": "c9f65e38-e30f-4e47-bd1c-f1b4315b4588",
   "metadata": {},
   "outputs": [],
   "source": []
  }
 ],
 "metadata": {
  "kernelspec": {
   "display_name": "Python 3 (ipykernel)",
   "language": "python",
   "name": "python3"
  },
  "language_info": {
   "codemirror_mode": {
    "name": "ipython",
    "version": 3
   },
   "file_extension": ".py",
   "mimetype": "text/x-python",
   "name": "python",
   "nbconvert_exporter": "python",
   "pygments_lexer": "ipython3",
   "version": "3.10.12"
  }
 },
 "nbformat": 4,
 "nbformat_minor": 5
}
