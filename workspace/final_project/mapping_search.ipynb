{
 "cells": [
  {
   "cell_type": "code",
   "execution_count": 316,
   "id": "0f77928a-de22-48f2-8160-09ceaab41d16",
   "metadata": {},
   "outputs": [],
   "source": [
    "import pandas as pd\n",
    "import numpy as np\n",
    "from loaders import *\n",
    "import math\n",
    "import random\n",
    "from attn_masked import parse_timeloop_stats, aggregate_timeloop_runs\n",
    "import os\n",
    "import json"
   ]
  },
  {
   "cell_type": "code",
   "execution_count": 307,
   "id": "335265f4-6e46-4548-a0dc-584caec31243",
   "metadata": {},
   "outputs": [],
   "source": [
    "matrix_size = 2048 # CHANGE\n",
    "\n",
    "dataflow_permuations = [['M', 'N', 'K'], ['M', 'K', 'N'], ['N', 'K', 'M'], ['N', 'M', 'K'], ['K', 'N', 'M'], ['K', 'M', 'N']]\n",
    "'''\n",
    "6 different dataflow permutations\n",
    "9 components for dataflow\n",
    "= 6^9 = 10077696 possible combinations\n",
    "'''\n",
    "# generate all the data flow permuations\n",
    "def get_dataflow_permutations():\n",
    "    dataflow_perumations = []\n",
    "    \n",
    "    for DRAM in dataflow_permuations:\n",
    "        for ClusterArray in dataflow_permuations:\n",
    "            for GLB_Cluster in dataflow_permuations:\n",
    "                for glb in dataflow_permuations:\n",
    "                    for PE_Cluster in dataflow_permuations:\n",
    "                        for iact_spad in dataflow_permuations:\n",
    "                            for weight_spad in dataflow_permuations:\n",
    "                                for psum in dataflow_permuations:\n",
    "                                    for reg in dataflow_permuations:\n",
    "                                        permutation = {\n",
    "                                            \"DRAM\": DRAM,\n",
    "                                            \"ClusterArray\": ClusterArray,\n",
    "                                            # \"GLB_Cluster\": GLB_Cluster,\n",
    "                                            # \"glb\": glb,\n",
    "                                            \"PE_Cluster\": PE_Cluster,\n",
    "                                            \"iact_spad\": iact_spad,\n",
    "                                            \"weight_spad\": weight_spad,\n",
    "                                            \"psum\": psum,\n",
    "                                            \"reg\": reg,\n",
    "                                        }\n",
    "                                        dataflow_perumations.append(permutation)\n",
    "    return dataflow_perumations\n",
    "\n",
    "# generate all the possible factor permutations for a specific rank (ie, M, N, or K)\n",
    "def get_factor_permutations():\n",
    "    factor_permutations = []\n",
    "    iact_spad_depth = 16 # M, K\n",
    "    weight_spad_depth = 192 # K, N\n",
    "    psum_spad_depth = 32 # M, N\n",
    "\n",
    "    max_K = int(max(math.log2(weight_spad_depth), math.log2(iact_spad_depth)))\n",
    "    max_M = int(max(math.log2(psum_spad_depth), math.log2(iact_spad_depth)))\n",
    "    max_N = int(max(math.log2(weight_spad_depth), math.log2(psum_spad_depth)))     \n",
    "    \n",
    "    for DRAM_M in [2**i for i in range(int(math.log2(matrix_size)) + 1)]:\n",
    "        for DRAM_N in [2**i for i in range(int(math.log2(matrix_size)) + 1)]:\n",
    "                for DRAM_K in [2**i for i in range(int(math.log2(matrix_size)) + 1)]:\n",
    "\n",
    "                    for iact_spad_M in [2**i for i in range(max_M + 1)]:\n",
    "                        for iact_spad_K in [2**j for j in range(max_K + 1)]:\n",
    "                            iact_spad_N = 1  # Inputs → M & K only\n",
    "                    \n",
    "                            for weight_spad_K in [2**i for i in range(max_K + 1)]:\n",
    "                                for weight_spad_N in [2**j for j in range(max_N + 1)]:\n",
    "                                    weight_spad_M = 1  # Weights → K & N only\n",
    "                    \n",
    "                                    for psum_M in [2**i for i in range(max_M + 1)]:\n",
    "                                        for psum_N in [2**j for j in range(max_N + 1)]:\n",
    "                                            psum_K = 1  # Outputs → M & N only\n",
    "                                            # tile size must fit into the iact_spad, weight_spad, and psum_spad\n",
    "                                            if not (\n",
    "                                                ((iact_spad_M * weight_spad_M * psum_M) * (iact_spad_K * weight_spad_K * psum_K) <=  iact_spad_depth) and\n",
    "                                                ((iact_spad_K * weight_spad_K * psum_K) * (iact_spad_N * weight_spad_N * psum_N) <=  weight_spad_depth) and\n",
    "                                                ((iact_spad_M * weight_spad_M * psum_M) * (iact_spad_N * weight_spad_N * psum_N) <=  psum_spad_depth)\n",
    "                                            ):\n",
    "                                                break\n",
    "\n",
    "                                            if ((DRAM_M * iact_spad_M * weight_spad_M * psum_M == matrix_size) and\n",
    "                                                (DRAM_N * iact_spad_N * weight_spad_N * psum_N == matrix_size) and\n",
    "                                                (DRAM_K * iact_spad_K * weight_spad_K * psum_K == matrix_size)):\n",
    "                                                permuation = {\n",
    "                                                    \"DRAM_M\": DRAM_M,\n",
    "                                                    \"DRAM_N\": DRAM_N,\n",
    "                                                    \"DRAM_K\": DRAM_K,\n",
    "\n",
    "                                                    \"ClusterArray_M\": 1,\n",
    "                                                    \"ClusterArray_N\": 1,\n",
    "                                                    \"ClusterArray_K\": 1,\n",
    "\n",
    "                                                    # \"GLB_Cluster_M\": 1,\n",
    "                                                    # \"GLB_Cluster_N\": 1,\n",
    "                                                    # \"GLB_Cluster_K\": 1,\n",
    "\n",
    "                                                    # \"glb_M\": 4,\n",
    "                                                    # \"glb_N\": 4,\n",
    "                                                    # \"glb_K\": 4,\n",
    "\n",
    "                                                    \"PE_Cluster_M\": 1,\n",
    "                                                    \"PE_Cluster_N\": 1,\n",
    "                                                    \"PE_Cluster_K\": 1,\n",
    "\n",
    "                                                    \"iact_spad_M\": iact_spad_M,\n",
    "                                                    \"iact_spad_N\": iact_spad_N,\n",
    "                                                    \"iact_spad_K\": iact_spad_K,\n",
    "\n",
    "                                                    \"weight_spad_M\": weight_spad_M,\n",
    "                                                    \"weight_spad_N\": weight_spad_N,\n",
    "                                                    \"weight_spad_K\": weight_spad_K,\n",
    "\n",
    "                                                    \"psum_M\": psum_M,\n",
    "                                                    \"psum_N\": psum_N,\n",
    "                                                    \"psum_K\": psum_K,\n",
    "\n",
    "                                                    \"reg_M\": 1,\n",
    "                                                    \"reg_N\": 1,\n",
    "                                                    \"reg_K\": 1,\n",
    "                                                }\n",
    "                                                factor_permutations.append(permuation)                            \n",
    "    return factor_permutations"
   ]
  },
  {
   "cell_type": "code",
   "execution_count": 308,
   "id": "0fda549d-8e7b-4886-84a0-a833b27cb77b",
   "metadata": {},
   "outputs": [],
   "source": [
    "dataflow_permutations = get_dataflow_permutations()\n",
    "factor_permutations = get_factor_permutations()"
   ]
  },
  {
   "cell_type": "code",
   "execution_count": 309,
   "id": "e97960b1-6bd4-4141-93ff-3bb871a05d81",
   "metadata": {},
   "outputs": [],
   "source": [
    "def hash_config(config):\n",
    "    return tuple((k, tuple(v) if isinstance(v, list) else v) for k, v in config.items())\n",
    "\n",
    "def sample_config(dataflow_permutations, factor_permutations):\n",
    "    factor_permutation = random.choice(factor_permutations)\n",
    "    dataflow_permutation = random.choice(dataflow_permutations)\n",
    "    \n",
    "    config = dict(\n",
    "        matrix_size_M_dim=matrix_size,\n",
    "        matrix_size_K_dim=matrix_size,\n",
    "        matrix_size_N_dim=matrix_size,\n",
    "        \n",
    "        DRAM_factor_M=factor_permutation[\"DRAM_M\"],\n",
    "        DRAM_factor_N=factor_permutation[\"DRAM_N\"],\n",
    "        DRAM_factor_K=factor_permutation[\"DRAM_K\"],\n",
    "        DRAM_permutation=dataflow_permutation[\"DRAM\"],\n",
    "    \n",
    "        ClusterArray_factor_M=factor_permutation[\"ClusterArray_M\"],\n",
    "        ClusterArray_factor_N=factor_permutation[\"ClusterArray_N\"],\n",
    "        ClusterArray_factor_K=factor_permutation[\"ClusterArray_K\"],\n",
    "        ClusterArray_permutation=dataflow_permutation[\"ClusterArray\"],\n",
    "    \n",
    "        # GLB_Cluster_factor_M=factor_permutation[\"GLB_Cluster_M\"],\n",
    "        # GLB_Cluster_factor_N=factor_permutation[\"GLB_Cluster_N\"],\n",
    "        # GLB_Cluster_factor_K=factor_permutation[\"GLB_Cluster_K\"],\n",
    "        # GLB_Cluster_permutation=dataflow_permutation[\"GLB_Cluster\"],\n",
    "    \n",
    "        # glb_factor_M=factor_permutation[\"glb_M\"],\n",
    "        # glb_factor_N=factor_permutation[\"glb_N\"],\n",
    "        # glb_factor_K=factor_permutation[\"glb_K\"],\n",
    "        # glb_permutation=dataflow_permutation[\"glb\"],\n",
    "    \n",
    "        PE_Cluster_factor_M=factor_permutation[\"PE_Cluster_M\"],\n",
    "        PE_Cluster_factor_N=factor_permutation[\"PE_Cluster_N\"],\n",
    "        PE_Cluster_factor_K=factor_permutation[\"PE_Cluster_K\"],\n",
    "        PE_Cluster_permutation=dataflow_permutation[\"PE_Cluster\"],\n",
    "    \n",
    "        iact_spad_factor_M=factor_permutation[\"iact_spad_M\"],\n",
    "        iact_spad_factor_N=factor_permutation[\"iact_spad_N\"],\n",
    "        iact_spad_factor_K=factor_permutation[\"iact_spad_K\"],\n",
    "        iact_spad_permutation=dataflow_permutation[\"iact_spad\"],\n",
    "    \n",
    "        weight_spad_factor_M=factor_permutation[\"weight_spad_M\"],\n",
    "        weight_spad_factor_N=factor_permutation[\"weight_spad_N\"],\n",
    "        weight_spad_factor_K=factor_permutation[\"weight_spad_K\"],\n",
    "        weight_spad_permutation=dataflow_permutation[\"weight_spad\"],\n",
    "    \n",
    "        psum_factor_M=factor_permutation[\"psum_M\"],\n",
    "        psum_factor_N=factor_permutation[\"psum_N\"],\n",
    "        psum_factor_K=factor_permutation[\"psum_K\"],\n",
    "        psum_permutation=dataflow_permutation[\"psum\"],\n",
    "    \n",
    "        reg_factor_M=factor_permutation[\"reg_M\"],\n",
    "        reg_factor_N=factor_permutation[\"reg_N\"],\n",
    "        reg_factor_K=factor_permutation[\"reg_K\"],\n",
    "        reg_permutation=dataflow_permutation[\"reg\"],\n",
    "    \n",
    "        density_weights=1,\n",
    "        density_inputs=1\n",
    "    )\n",
    "    return config"
   ]
  },
  {
   "cell_type": "code",
   "execution_count": 310,
   "id": "f68b301d-eac9-48eb-9051-9d9dd651bc46",
   "metadata": {
    "scrolled": true
   },
   "outputs": [],
   "source": [
    "def evaluate_config(config):\n",
    "    out = run_timeloop_model(\n",
    "        config,\n",
    "        problem='designs/baseline/baseline_problem.yaml',\n",
    "        mapping='designs/baseline/baseline_mapping.yaml',\n",
    "        sparse_optimizations='designs/baseline/baseline_sparse_opt.yaml', \n",
    "    )\n",
    "    stats = open('./output_dir/timeloop-model.stats.txt', 'r').read()\n",
    "    return stats\n",
    "\n",
    "def get_min_config_attention(attributes, num_of_random_samples = 1):\n",
    "    print(f\"minimizing: {attributes}, num_of_random_samples: {num_of_random_samples}\")\n",
    "    visited = set()\n",
    "    curr_min = {attr: float('inf') for attr in attributes}\n",
    "    min_config =  {attr: None for attr in attributes}\n",
    "    \n",
    "    # uses random sampling instead of a for loop\n",
    "    for sample in range(num_of_random_samples):\n",
    "        # print(\"\\nsample: \", sample, \"curr_min\", curr_min)\n",
    "        \n",
    "        config = sample_config(dataflow_permutations, factor_permutations)\n",
    "        while hash_config(config) in visited:\n",
    "            config = sample_config(dataflow_permutations, factor_permutations)\n",
    "        visited.add(hash_config(config))\n",
    "        # print(\"config: \", config)\n",
    "\n",
    "        q1_config, q2_config, q4_config = config.copy(), config.copy(), config.copy()\n",
    "        q1_config['density_inputs'] = 0.5\n",
    "        q2_config['density_inputs'] = 0.001\n",
    "        q4_config['density_inputs'] = 1.0\n",
    "\n",
    "        q1_stats = evaluate_config(q1_config)\n",
    "        q2_stats = evaluate_config(q2_config)\n",
    "        q4_stats = evaluate_config(q4_config)\n",
    "        \n",
    "        all_stats = [q1_stats, q2_stats, q1_stats, q4_stats]\n",
    "        parsed_runs = [parse_timeloop_stats(stats) for stats in all_stats]\n",
    "        combined_stats = aggregate_timeloop_runs(parsed_runs)\n",
    "\n",
    "        for attr in attributes: \n",
    "            if attr in ['total_energy_uJ', 'computes_per_cycle']:\n",
    "                val = combined_stats[attr]\n",
    "            elif attr == 'utilization_percent': \n",
    "                val = combined_stats[attr]['overall']\n",
    "            elif attr == 'memory_traffic': \n",
    "                val = sum(combined_stats[attr].values())\n",
    "            else: \n",
    "                raise ValueError(f\"{attr} not a valid attribute.\")\n",
    "                \n",
    "            if val < curr_min[attr]:\n",
    "                min_config[attr] = config\n",
    "                curr_min[attr] = val\n",
    "\n",
    "    return min_config, curr_min"
   ]
  },
  {
   "cell_type": "code",
   "execution_count": 311,
   "id": "42811cd4-867c-4534-a46a-efe2ee32b649",
   "metadata": {
    "scrolled": true
   },
   "outputs": [
    {
     "name": "stdout",
     "output_type": "stream",
     "text": [
      "minimizing: ['total_energy_uJ', 'utilization_percent', 'computes_per_cycle', 'memory_traffic'], num_of_random_samples: 2\n",
      "[INFO] 2025-05-02 17:19:05,069 - pytimeloop.accelergy_interface - Running Accelergy with command: accelergy /home/workspace/final_project/output_dir/parsed-processed-input.yaml -o ./output_dir/ -v\n"
     ]
    },
    {
     "name": "stderr",
     "output_type": "stream",
     "text": [
      "INFO:pytimeloop.accelergy_interface:Running Accelergy with command: accelergy /home/workspace/final_project/output_dir/parsed-processed-input.yaml -o ./output_dir/ -v\n"
     ]
    },
    {
     "name": "stdout",
     "output_type": "stream",
     "text": [
      "[INFO] 2025-05-02 17:19:15,848 - pytimeloop.accelergy_interface - Running Accelergy with command: accelergy /home/workspace/final_project/output_dir/parsed-processed-input.yaml -o ./output_dir/ -v\n"
     ]
    },
    {
     "name": "stderr",
     "output_type": "stream",
     "text": [
      "INFO:pytimeloop.accelergy_interface:Running Accelergy with command: accelergy /home/workspace/final_project/output_dir/parsed-processed-input.yaml -o ./output_dir/ -v\n"
     ]
    },
    {
     "name": "stdout",
     "output_type": "stream",
     "text": [
      "[INFO] 2025-05-02 17:19:26,295 - pytimeloop.accelergy_interface - Running Accelergy with command: accelergy /home/workspace/final_project/output_dir/parsed-processed-input.yaml -o ./output_dir/ -v\n"
     ]
    },
    {
     "name": "stderr",
     "output_type": "stream",
     "text": [
      "INFO:pytimeloop.accelergy_interface:Running Accelergy with command: accelergy /home/workspace/final_project/output_dir/parsed-processed-input.yaml -o ./output_dir/ -v\n"
     ]
    },
    {
     "name": "stdout",
     "output_type": "stream",
     "text": [
      "[INFO] 2025-05-02 17:19:37,319 - pytimeloop.accelergy_interface - Running Accelergy with command: accelergy /home/workspace/final_project/output_dir/parsed-processed-input.yaml -o ./output_dir/ -v\n"
     ]
    },
    {
     "name": "stderr",
     "output_type": "stream",
     "text": [
      "INFO:pytimeloop.accelergy_interface:Running Accelergy with command: accelergy /home/workspace/final_project/output_dir/parsed-processed-input.yaml -o ./output_dir/ -v\n"
     ]
    },
    {
     "name": "stdout",
     "output_type": "stream",
     "text": [
      "[INFO] 2025-05-02 17:19:48,048 - pytimeloop.accelergy_interface - Running Accelergy with command: accelergy /home/workspace/final_project/output_dir/parsed-processed-input.yaml -o ./output_dir/ -v\n"
     ]
    },
    {
     "name": "stderr",
     "output_type": "stream",
     "text": [
      "INFO:pytimeloop.accelergy_interface:Running Accelergy with command: accelergy /home/workspace/final_project/output_dir/parsed-processed-input.yaml -o ./output_dir/ -v\n"
     ]
    },
    {
     "name": "stdout",
     "output_type": "stream",
     "text": [
      "[INFO] 2025-05-02 17:19:58,540 - pytimeloop.accelergy_interface - Running Accelergy with command: accelergy /home/workspace/final_project/output_dir/parsed-processed-input.yaml -o ./output_dir/ -v\n"
     ]
    },
    {
     "name": "stderr",
     "output_type": "stream",
     "text": [
      "INFO:pytimeloop.accelergy_interface:Running Accelergy with command: accelergy /home/workspace/final_project/output_dir/parsed-processed-input.yaml -o ./output_dir/ -v\n"
     ]
    },
    {
     "name": "stdout",
     "output_type": "stream",
     "text": [
      "min_config:  {'total_energy_uJ': {'matrix_size_M_dim': 2048, 'matrix_size_K_dim': 2048, 'matrix_size_N_dim': 2048, 'DRAM_factor_M': 256, 'DRAM_factor_N': 512, 'DRAM_factor_K': 2048, 'DRAM_permutation': ['N', 'M', 'K'], 'ClusterArray_factor_M': 1, 'ClusterArray_factor_N': 1, 'ClusterArray_factor_K': 1, 'ClusterArray_permutation': ['K', 'M', 'N'], 'PE_Cluster_factor_M': 1, 'PE_Cluster_factor_N': 1, 'PE_Cluster_factor_K': 1, 'PE_Cluster_permutation': ['N', 'M', 'K'], 'iact_spad_factor_M': 8, 'iact_spad_factor_N': 1, 'iact_spad_factor_K': 1, 'iact_spad_permutation': ['N', 'M', 'K'], 'weight_spad_factor_M': 1, 'weight_spad_factor_N': 4, 'weight_spad_factor_K': 1, 'weight_spad_permutation': ['K', 'M', 'N'], 'psum_factor_M': 1, 'psum_factor_N': 1, 'psum_factor_K': 1, 'psum_permutation': ['M', 'K', 'N'], 'reg_factor_M': 1, 'reg_factor_N': 1, 'reg_factor_K': 1, 'reg_permutation': ['K', 'M', 'N'], 'density_weights': 1, 'density_inputs': 1}, 'utilization_percent': {'matrix_size_M_dim': 2048, 'matrix_size_K_dim': 2048, 'matrix_size_N_dim': 2048, 'DRAM_factor_M': 1024, 'DRAM_factor_N': 128, 'DRAM_factor_K': 2048, 'DRAM_permutation': ['N', 'K', 'M'], 'ClusterArray_factor_M': 1, 'ClusterArray_factor_N': 1, 'ClusterArray_factor_K': 1, 'ClusterArray_permutation': ['K', 'N', 'M'], 'PE_Cluster_factor_M': 1, 'PE_Cluster_factor_N': 1, 'PE_Cluster_factor_K': 1, 'PE_Cluster_permutation': ['M', 'N', 'K'], 'iact_spad_factor_M': 1, 'iact_spad_factor_N': 1, 'iact_spad_factor_K': 1, 'iact_spad_permutation': ['K', 'M', 'N'], 'weight_spad_factor_M': 1, 'weight_spad_factor_N': 16, 'weight_spad_factor_K': 1, 'weight_spad_permutation': ['K', 'N', 'M'], 'psum_factor_M': 2, 'psum_factor_N': 1, 'psum_factor_K': 1, 'psum_permutation': ['K', 'N', 'M'], 'reg_factor_M': 1, 'reg_factor_N': 1, 'reg_factor_K': 1, 'reg_permutation': ['M', 'K', 'N'], 'density_weights': 1, 'density_inputs': 1}, 'computes_per_cycle': {'matrix_size_M_dim': 2048, 'matrix_size_K_dim': 2048, 'matrix_size_N_dim': 2048, 'DRAM_factor_M': 1024, 'DRAM_factor_N': 128, 'DRAM_factor_K': 2048, 'DRAM_permutation': ['N', 'K', 'M'], 'ClusterArray_factor_M': 1, 'ClusterArray_factor_N': 1, 'ClusterArray_factor_K': 1, 'ClusterArray_permutation': ['K', 'N', 'M'], 'PE_Cluster_factor_M': 1, 'PE_Cluster_factor_N': 1, 'PE_Cluster_factor_K': 1, 'PE_Cluster_permutation': ['M', 'N', 'K'], 'iact_spad_factor_M': 1, 'iact_spad_factor_N': 1, 'iact_spad_factor_K': 1, 'iact_spad_permutation': ['K', 'M', 'N'], 'weight_spad_factor_M': 1, 'weight_spad_factor_N': 16, 'weight_spad_factor_K': 1, 'weight_spad_permutation': ['K', 'N', 'M'], 'psum_factor_M': 2, 'psum_factor_N': 1, 'psum_factor_K': 1, 'psum_permutation': ['K', 'N', 'M'], 'reg_factor_M': 1, 'reg_factor_N': 1, 'reg_factor_K': 1, 'reg_permutation': ['M', 'K', 'N'], 'density_weights': 1, 'density_inputs': 1}, 'memory_traffic': {'matrix_size_M_dim': 2048, 'matrix_size_K_dim': 2048, 'matrix_size_N_dim': 2048, 'DRAM_factor_M': 256, 'DRAM_factor_N': 512, 'DRAM_factor_K': 2048, 'DRAM_permutation': ['N', 'M', 'K'], 'ClusterArray_factor_M': 1, 'ClusterArray_factor_N': 1, 'ClusterArray_factor_K': 1, 'ClusterArray_permutation': ['K', 'M', 'N'], 'PE_Cluster_factor_M': 1, 'PE_Cluster_factor_N': 1, 'PE_Cluster_factor_K': 1, 'PE_Cluster_permutation': ['N', 'M', 'K'], 'iact_spad_factor_M': 8, 'iact_spad_factor_N': 1, 'iact_spad_factor_K': 1, 'iact_spad_permutation': ['N', 'M', 'K'], 'weight_spad_factor_M': 1, 'weight_spad_factor_N': 4, 'weight_spad_factor_K': 1, 'weight_spad_permutation': ['K', 'M', 'N'], 'psum_factor_M': 1, 'psum_factor_N': 1, 'psum_factor_K': 1, 'psum_permutation': ['M', 'K', 'N'], 'reg_factor_M': 1, 'reg_factor_N': 1, 'reg_factor_K': 1, 'reg_permutation': ['K', 'M', 'N'], 'density_weights': 1, 'density_inputs': 1}}\n",
      "curr_min:  {'total_energy_uJ': 4973944.9, 'utilization_percent': 0.39, 'computes_per_cycle': 1.0, 'memory_traffic': 242672631545}\n"
     ]
    }
   ],
   "source": [
    "num_of_random_samples = 2\n",
    "attributes = ['total_energy_uJ', 'utilization_percent', 'computes_per_cycle', 'memory_traffic']\n",
    "min_config, curr_min = get_min_config_attention(attributes, num_of_random_samples)\n",
    "# print(\"min_config: \", min_config)\n",
    "# print(\"curr_min: \", curr_min)"
   ]
  },
  {
   "cell_type": "code",
   "execution_count": 318,
   "id": "379f5dc0-e213-4593-aa5a-3727935245f6",
   "metadata": {},
   "outputs": [],
   "source": [
    "folder = \"data\"\n",
    "name = \"Jane Doe\" #Change\n",
    "os.makedirs(f\"{folder}\", exist_ok=True)\n",
    "\n",
    "with open(f\"{folder}/min_config_{name}\", \"w\") as f:\n",
    "    json.dump(min_config, f, indent=2)\n",
    "with open(f\"{folder}/curr_min_{name}\", \"w\") as f:\n",
    "    json.dump(curr_min, f, indent=2)"
   ]
  },
  {
   "cell_type": "code",
   "execution_count": null,
   "id": "77a7023c-ad37-486b-8c99-0612892979bf",
   "metadata": {},
   "outputs": [],
   "source": [
    "# !timeloop model ./output_dir/parsed-processed-input.yaml"
   ]
  },
  {
   "cell_type": "code",
   "execution_count": null,
   "id": "98adc084-2656-4e30-850a-3b415157cdd7",
   "metadata": {},
   "outputs": [],
   "source": []
  }
 ],
 "metadata": {
  "kernelspec": {
   "display_name": "Python 3 (ipykernel)",
   "language": "python",
   "name": "python3"
  },
  "language_info": {
   "codemirror_mode": {
    "name": "ipython",
    "version": 3
   },
   "file_extension": ".py",
   "mimetype": "text/x-python",
   "name": "python",
   "nbconvert_exporter": "python",
   "pygments_lexer": "ipython3",
   "version": "3.10.12"
  }
 },
 "nbformat": 4,
 "nbformat_minor": 5
}
