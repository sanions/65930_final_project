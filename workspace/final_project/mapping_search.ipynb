{
 "cells": [
  {
   "cell_type": "code",
   "execution_count": 27,
   "id": "0f77928a-de22-48f2-8160-09ceaab41d16",
   "metadata": {},
   "outputs": [],
   "source": [
    "import pandas as pd\n",
    "import numpy as np\n",
    "from loaders import *\n",
    "import math\n",
    "import random\n",
    "from attn_masked import parse_timeloop_stats, aggregate_timeloop_runs\n",
    "import os\n",
    "import json"
   ]
  },
  {
   "cell_type": "code",
   "execution_count": 20,
   "id": "335265f4-6e46-4548-a0dc-584caec31243",
   "metadata": {},
   "outputs": [],
   "source": [
    "matrix_size = 2048 # CHANGE\n",
    "\n",
    "dataflow_permuations = [['M', 'N', 'K'], ['M', 'K', 'N'], ['N', 'K', 'M'], ['N', 'M', 'K'], ['K', 'N', 'M'], ['K', 'M', 'N']]\n",
    "'''\n",
    "6 different dataflow permutations\n",
    "9 components for dataflow\n",
    "= 6^9 = 10077696 possible combinations\n",
    "'''\n",
    "# generate all the data flow permuations\n",
    "def get_dataflow_permutations():\n",
    "    dataflow_perumations = []\n",
    "    \n",
    "    for DRAM in dataflow_permuations:\n",
    "        for ClusterArray in dataflow_permuations:\n",
    "            for GLB_Cluster in dataflow_permuations:\n",
    "                for glb in dataflow_permuations:\n",
    "                    for PE_Cluster in dataflow_permuations:\n",
    "                        for iact_spad in dataflow_permuations:\n",
    "                            for weight_spad in dataflow_permuations:\n",
    "                                for psum in dataflow_permuations:\n",
    "                                    for reg in dataflow_permuations:\n",
    "                                        permutation = {\n",
    "                                            \"DRAM\": DRAM,\n",
    "                                            \"ClusterArray\": ClusterArray,\n",
    "                                            # \"GLB_Cluster\": GLB_Cluster,\n",
    "                                            # \"glb\": glb,\n",
    "                                            \"PE_Cluster\": PE_Cluster,\n",
    "                                            \"iact_spad\": iact_spad,\n",
    "                                            \"weight_spad\": weight_spad,\n",
    "                                            \"psum\": psum,\n",
    "                                            \"reg\": reg,\n",
    "                                        }\n",
    "                                        dataflow_perumations.append(permutation)\n",
    "    return dataflow_perumations\n",
    "\n",
    "# generate all the possible factor permutations for a specific rank (ie, M, N, or K)\n",
    "def get_factor_permutations():\n",
    "    factor_permutations = []\n",
    "    iact_spad_depth = 16 # M, K\n",
    "    weight_spad_depth = 192 # K, N\n",
    "    psum_spad_depth = 32 # M, N\n",
    "\n",
    "    max_K = int(max(math.log2(weight_spad_depth), math.log2(iact_spad_depth)))\n",
    "    max_M = int(max(math.log2(psum_spad_depth), math.log2(iact_spad_depth)))\n",
    "    max_N = int(max(math.log2(weight_spad_depth), math.log2(psum_spad_depth)))     \n",
    "    \n",
    "    for DRAM_M in [2**i for i in range(int(math.log2(matrix_size)) + 1)]:\n",
    "        for DRAM_N in [2**i for i in range(int(math.log2(matrix_size)) + 1)]:\n",
    "                for DRAM_K in [2**i for i in range(int(math.log2(matrix_size)) + 1)]:\n",
    "\n",
    "                    for iact_spad_M in [2**i for i in range(max_M + 1)]:\n",
    "                        for iact_spad_K in [2**j for j in range(max_K + 1)]:\n",
    "                            iact_spad_N = 1  # Inputs → M & K only\n",
    "                    \n",
    "                            for weight_spad_K in [2**i for i in range(max_K + 1)]:\n",
    "                                for weight_spad_N in [2**j for j in range(max_N + 1)]:\n",
    "                                    weight_spad_M = 1  # Weights → K & N only\n",
    "                    \n",
    "                                    for psum_M in [2**i for i in range(max_M + 1)]:\n",
    "                                        for psum_N in [2**j for j in range(max_N + 1)]:\n",
    "                                            psum_K = 1  # Outputs → M & N only\n",
    "                                            # tile size must fit into the iact_spad, weight_spad, and psum_spad\n",
    "                                            if not (\n",
    "                                                ((iact_spad_M * weight_spad_M * psum_M) * (iact_spad_K * weight_spad_K * psum_K) <=  iact_spad_depth) and\n",
    "                                                ((iact_spad_K * weight_spad_K * psum_K) * (iact_spad_N * weight_spad_N * psum_N) <=  weight_spad_depth) and\n",
    "                                                ((iact_spad_M * weight_spad_M * psum_M) * (iact_spad_N * weight_spad_N * psum_N) <=  psum_spad_depth)\n",
    "                                            ):\n",
    "                                                break\n",
    "\n",
    "                                            if ((DRAM_M * iact_spad_M * weight_spad_M * psum_M == matrix_size) and\n",
    "                                                (DRAM_N * iact_spad_N * weight_spad_N * psum_N == matrix_size) and\n",
    "                                                (DRAM_K * iact_spad_K * weight_spad_K * psum_K == matrix_size)):\n",
    "                                                permuation = {\n",
    "                                                    \"DRAM_M\": DRAM_M,\n",
    "                                                    \"DRAM_N\": DRAM_N,\n",
    "                                                    \"DRAM_K\": DRAM_K,\n",
    "\n",
    "                                                    \"ClusterArray_M\": 1,\n",
    "                                                    \"ClusterArray_N\": 1,\n",
    "                                                    \"ClusterArray_K\": 1,\n",
    "\n",
    "                                                    # \"GLB_Cluster_M\": 1,\n",
    "                                                    # \"GLB_Cluster_N\": 1,\n",
    "                                                    # \"GLB_Cluster_K\": 1,\n",
    "\n",
    "                                                    # \"glb_M\": 4,\n",
    "                                                    # \"glb_N\": 4,\n",
    "                                                    # \"glb_K\": 4,\n",
    "\n",
    "                                                    \"PE_Cluster_M\": 1,\n",
    "                                                    \"PE_Cluster_N\": 1,\n",
    "                                                    \"PE_Cluster_K\": 1,\n",
    "\n",
    "                                                    \"iact_spad_M\": iact_spad_M,\n",
    "                                                    \"iact_spad_N\": iact_spad_N,\n",
    "                                                    \"iact_spad_K\": iact_spad_K,\n",
    "\n",
    "                                                    \"weight_spad_M\": weight_spad_M,\n",
    "                                                    \"weight_spad_N\": weight_spad_N,\n",
    "                                                    \"weight_spad_K\": weight_spad_K,\n",
    "\n",
    "                                                    \"psum_M\": psum_M,\n",
    "                                                    \"psum_N\": psum_N,\n",
    "                                                    \"psum_K\": psum_K,\n",
    "\n",
    "                                                    \"reg_M\": 1,\n",
    "                                                    \"reg_N\": 1,\n",
    "                                                    \"reg_K\": 1,\n",
    "                                                }\n",
    "                                                factor_permutations.append(permuation)                            \n",
    "    return factor_permutations"
   ]
  },
  {
   "cell_type": "code",
   "execution_count": 21,
   "id": "0fda549d-8e7b-4886-84a0-a833b27cb77b",
   "metadata": {},
   "outputs": [],
   "source": [
    "dataflow_permutations = get_dataflow_permutations()\n",
    "factor_permutations = get_factor_permutations()"
   ]
  },
  {
   "cell_type": "code",
   "execution_count": 22,
   "id": "e97960b1-6bd4-4141-93ff-3bb871a05d81",
   "metadata": {},
   "outputs": [],
   "source": [
    "def hash_config(config):\n",
    "    return tuple((k, tuple(v) if isinstance(v, list) else v) for k, v in config.items())\n",
    "\n",
    "def sample_config(dataflow_permutations, factor_permutations):\n",
    "    factor_permutation = random.choice(factor_permutations)\n",
    "    dataflow_permutation = random.choice(dataflow_permutations)\n",
    "    \n",
    "    config = dict(\n",
    "        matrix_size_M_dim=matrix_size,\n",
    "        matrix_size_K_dim=matrix_size,\n",
    "        matrix_size_N_dim=matrix_size,\n",
    "        \n",
    "        DRAM_factor_M=factor_permutation[\"DRAM_M\"],\n",
    "        DRAM_factor_N=factor_permutation[\"DRAM_N\"],\n",
    "        DRAM_factor_K=factor_permutation[\"DRAM_K\"],\n",
    "        DRAM_permutation=dataflow_permutation[\"DRAM\"],\n",
    "    \n",
    "        ClusterArray_factor_M=factor_permutation[\"ClusterArray_M\"],\n",
    "        ClusterArray_factor_N=factor_permutation[\"ClusterArray_N\"],\n",
    "        ClusterArray_factor_K=factor_permutation[\"ClusterArray_K\"],\n",
    "        ClusterArray_permutation=dataflow_permutation[\"ClusterArray\"],\n",
    "    \n",
    "        # GLB_Cluster_factor_M=factor_permutation[\"GLB_Cluster_M\"],\n",
    "        # GLB_Cluster_factor_N=factor_permutation[\"GLB_Cluster_N\"],\n",
    "        # GLB_Cluster_factor_K=factor_permutation[\"GLB_Cluster_K\"],\n",
    "        # GLB_Cluster_permutation=dataflow_permutation[\"GLB_Cluster\"],\n",
    "    \n",
    "        # glb_factor_M=factor_permutation[\"glb_M\"],\n",
    "        # glb_factor_N=factor_permutation[\"glb_N\"],\n",
    "        # glb_factor_K=factor_permutation[\"glb_K\"],\n",
    "        # glb_permutation=dataflow_permutation[\"glb\"],\n",
    "    \n",
    "        PE_Cluster_factor_M=factor_permutation[\"PE_Cluster_M\"],\n",
    "        PE_Cluster_factor_N=factor_permutation[\"PE_Cluster_N\"],\n",
    "        PE_Cluster_factor_K=factor_permutation[\"PE_Cluster_K\"],\n",
    "        PE_Cluster_permutation=dataflow_permutation[\"PE_Cluster\"],\n",
    "    \n",
    "        iact_spad_factor_M=factor_permutation[\"iact_spad_M\"],\n",
    "        iact_spad_factor_N=factor_permutation[\"iact_spad_N\"],\n",
    "        iact_spad_factor_K=factor_permutation[\"iact_spad_K\"],\n",
    "        iact_spad_permutation=dataflow_permutation[\"iact_spad\"],\n",
    "    \n",
    "        weight_spad_factor_M=factor_permutation[\"weight_spad_M\"],\n",
    "        weight_spad_factor_N=factor_permutation[\"weight_spad_N\"],\n",
    "        weight_spad_factor_K=factor_permutation[\"weight_spad_K\"],\n",
    "        weight_spad_permutation=dataflow_permutation[\"weight_spad\"],\n",
    "    \n",
    "        psum_factor_M=factor_permutation[\"psum_M\"],\n",
    "        psum_factor_N=factor_permutation[\"psum_N\"],\n",
    "        psum_factor_K=factor_permutation[\"psum_K\"],\n",
    "        psum_permutation=dataflow_permutation[\"psum\"],\n",
    "    \n",
    "        reg_factor_M=factor_permutation[\"reg_M\"],\n",
    "        reg_factor_N=factor_permutation[\"reg_N\"],\n",
    "        reg_factor_K=factor_permutation[\"reg_K\"],\n",
    "        reg_permutation=dataflow_permutation[\"reg\"],\n",
    "    \n",
    "        density_weights=1,\n",
    "        density_inputs=1\n",
    "    )\n",
    "    return config"
   ]
  },
  {
   "cell_type": "code",
   "execution_count": 35,
   "id": "f68b301d-eac9-48eb-9051-9d9dd651bc46",
   "metadata": {
    "scrolled": true
   },
   "outputs": [],
   "source": [
    "def evaluate_config(config):\n",
    "    out = run_timeloop_model(\n",
    "        config,\n",
    "        problem='designs/baseline/baseline_problem.yaml',\n",
    "        mapping='designs/baseline/baseline_mapping.yaml',\n",
    "        sparse_optimizations='designs/baseline/baseline_sparse_opt.yaml', \n",
    "    )\n",
    "    stats = open('./output_dir/timeloop-model.stats.txt', 'r').read()\n",
    "    return stats\n",
    "\n",
    "def get_min_config_attention(attributes, num_of_random_samples = 1):\n",
    "    print(f\"optimizing over: {attributes}, num_of_random_samples: {num_of_random_samples}\")\n",
    "    visited = set()\n",
    "    \n",
    "    curr_opt = {}\n",
    "    for attr in attributes: \n",
    "        if attr in ['total_energy_uJ', 'memory_traffic']: \n",
    "            curr_opt[attr] = float('inf')\n",
    "        elif attr in ['utilization_percent', 'computes_per_cycle']: \n",
    "            curr_opt[attr] = -float('inf')\n",
    "        else: \n",
    "            raise ValueError(f\"Unexpected Attribute {attr}\")\n",
    "            \n",
    "    opt_config =  {attr: None for attr in attributes}\n",
    "    \n",
    "    # uses random sampling instead of a for loop\n",
    "    for sample in range(num_of_random_samples):\n",
    "        # print(\"\\nsample: \", sample, \"curr_min\", curr_min)\n",
    "        \n",
    "        config = sample_config(dataflow_permutations, factor_permutations)\n",
    "        while hash_config(config) in visited:\n",
    "            config = sample_config(dataflow_permutations, factor_permutations)\n",
    "        visited.add(hash_config(config))\n",
    "        # print(\"config: \", config)\n",
    "\n",
    "        q1_config, q2_config, q4_config = config.copy(), config.copy(), config.copy()\n",
    "        q1_config['density_inputs'] = 0.5\n",
    "        q2_config['density_inputs'] = 0.001\n",
    "        q4_config['density_inputs'] = 1.0\n",
    "\n",
    "        q1_stats = evaluate_config(q1_config)\n",
    "        q2_stats = evaluate_config(q2_config)\n",
    "        q4_stats = evaluate_config(q4_config)\n",
    "        \n",
    "        all_stats = [q1_stats, q2_stats, q1_stats, q4_stats]\n",
    "        \n",
    "        parsed_runs = [parse_timeloop_stats(stats) for stats in all_stats]\n",
    "        combined_stats = aggregate_timeloop_runs(parsed_runs)\n",
    "\n",
    "        for attr in attributes: \n",
    "            if attr in ['total_energy_uJ', 'computes_per_cycle']:\n",
    "                val = combined_stats[attr]\n",
    "            elif attr == 'utilization_percent': \n",
    "                val = combined_stats[attr]['overall']\n",
    "            elif attr == 'memory_traffic': \n",
    "                val = sum(combined_stats[attr].values())\n",
    "            else: \n",
    "                raise ValueError(f\"{attr} not a valid attribute.\")\n",
    "\n",
    "            if attr in ['total_energy_uJ', 'memory_traffic']: \n",
    "                if val < curr_opt[attr]:\n",
    "                    opt_config[attr] = config\n",
    "                    curr_opt[attr] = val\n",
    "            elif attr in ['utilization_percent', 'computes_per_cycle']: \n",
    "                if val > curr_opt[attr]: \n",
    "                    opt_config[attr] = config\n",
    "                    curr_opt[attr] = val\n",
    "\n",
    "    return opt_config, curr_opt"
   ]
  },
  {
   "cell_type": "code",
   "execution_count": 34,
   "id": "42811cd4-867c-4534-a46a-efe2ee32b649",
   "metadata": {
    "scrolled": true
   },
   "outputs": [
    {
     "name": "stdout",
     "output_type": "stream",
     "text": [
      "optimizing over: ['total_energy_uJ', 'utilization_percent', 'computes_per_cycle', 'memory_traffic'], num_of_random_samples: 10\n",
      "[INFO] 2025-05-02 23:08:03,897 - pytimeloop.accelergy_interface - Running Accelergy with command: accelergy /home/workspace/final_project/output_dir/parsed-processed-input.yaml -o ./output_dir/ -v\n"
     ]
    },
    {
     "name": "stderr",
     "output_type": "stream",
     "text": [
      "INFO:pytimeloop.accelergy_interface:Running Accelergy with command: accelergy /home/workspace/final_project/output_dir/parsed-processed-input.yaml -o ./output_dir/ -v\n"
     ]
    },
    {
     "name": "stdout",
     "output_type": "stream",
     "text": [
      "[INFO] 2025-05-02 23:08:06,939 - pytimeloop.accelergy_interface - Running Accelergy with command: accelergy /home/workspace/final_project/output_dir/parsed-processed-input.yaml -o ./output_dir/ -v\n"
     ]
    },
    {
     "name": "stderr",
     "output_type": "stream",
     "text": [
      "INFO:pytimeloop.accelergy_interface:Running Accelergy with command: accelergy /home/workspace/final_project/output_dir/parsed-processed-input.yaml -o ./output_dir/ -v\n"
     ]
    },
    {
     "name": "stdout",
     "output_type": "stream",
     "text": [
      "[INFO] 2025-05-02 23:08:09,938 - pytimeloop.accelergy_interface - Running Accelergy with command: accelergy /home/workspace/final_project/output_dir/parsed-processed-input.yaml -o ./output_dir/ -v\n"
     ]
    },
    {
     "name": "stderr",
     "output_type": "stream",
     "text": [
      "INFO:pytimeloop.accelergy_interface:Running Accelergy with command: accelergy /home/workspace/final_project/output_dir/parsed-processed-input.yaml -o ./output_dir/ -v\n"
     ]
    },
    {
     "name": "stdout",
     "output_type": "stream",
     "text": [
      "parsed_runs[0]={'energy_per_compute_fJ': {'MAC': 15574.6, 'reg': 35.93, 'psum_spad': 745.16, 'weight_spad': 984.13, 'iact_spad': 51.74, 'DRAM': 68000.0, 'Total': 85391.56}, 'total_energy_uJ': 366753.97, 'memory_energy_pJ': {'MAC': 66892397648.28, 'reg': 154334925.32, 'psum_spad': 3200435812.83, 'weight_spad': 4226753976.34, 'iact_spad': 222215004.38, 'DRAM': 268435456.0}, 'memory_traffic': {'reg': 6442450944, 'psum_spad': 19318964224, 'weight_spad': 8594128896, 'iact_spad': 4831838208, 'DRAM': 4831838208}, 'utilization_percent': {'MAC': 1.0, 'overall': 0.39}, 'computes_per_cycle': 1.0, 'actual_computes': 4294967296, 'cycles': 4294967296}\n",
      "combined_stats={'total_energy_uJ': 1467198.14, 'memory_energy_pJ': defaultdict(<class 'float'>, {'MAC': 267703375394.77, 'reg': 617648371.13, 'psum_spad': 12806679733.43, 'weight_spad': 16915452273.23, 'iact_spad': 889304447.54, 'DRAM': 1073741824.0}), 'memory_traffic': defaultdict(<class 'int'>, {'reg': 25782688677, 'psum_spad': 77275856896, 'weight_spad': 34376515584, 'iact_spad': 14534169329, 'DRAM': 19327352832}), 'energy_per_compute_fJ': {'MAC': 15574.6, 'reg': 35.92999999999999, 'psum_spad': 745.0741499452909, 'weight_spad': 984.1278710881036, 'iact_spad': 51.74, 'DRAM': 67968.0159954423, 'Total': 85359.49301397696}, 'utilization_percent': {'MAC': 1.0, 'overall': 0.39}, 'computes_per_cycle': 1.0, 'total_actual_computes': 17188459119, 'total_cycles': 17188459119}\n",
      "[INFO] 2025-05-02 23:08:12,945 - pytimeloop.accelergy_interface - Running Accelergy with command: accelergy /home/workspace/final_project/output_dir/parsed-processed-input.yaml -o ./output_dir/ -v\n"
     ]
    },
    {
     "name": "stderr",
     "output_type": "stream",
     "text": [
      "INFO:pytimeloop.accelergy_interface:Running Accelergy with command: accelergy /home/workspace/final_project/output_dir/parsed-processed-input.yaml -o ./output_dir/ -v\n"
     ]
    },
    {
     "name": "stdout",
     "output_type": "stream",
     "text": [
      "[INFO] 2025-05-02 23:08:15,970 - pytimeloop.accelergy_interface - Running Accelergy with command: accelergy /home/workspace/final_project/output_dir/parsed-processed-input.yaml -o ./output_dir/ -v\n"
     ]
    },
    {
     "name": "stderr",
     "output_type": "stream",
     "text": [
      "INFO:pytimeloop.accelergy_interface:Running Accelergy with command: accelergy /home/workspace/final_project/output_dir/parsed-processed-input.yaml -o ./output_dir/ -v\n"
     ]
    },
    {
     "name": "stdout",
     "output_type": "stream",
     "text": [
      "[INFO] 2025-05-02 23:08:18,967 - pytimeloop.accelergy_interface - Running Accelergy with command: accelergy /home/workspace/final_project/output_dir/parsed-processed-input.yaml -o ./output_dir/ -v\n"
     ]
    },
    {
     "name": "stderr",
     "output_type": "stream",
     "text": [
      "INFO:pytimeloop.accelergy_interface:Running Accelergy with command: accelergy /home/workspace/final_project/output_dir/parsed-processed-input.yaml -o ./output_dir/ -v\n"
     ]
    },
    {
     "name": "stdout",
     "output_type": "stream",
     "text": [
      "parsed_runs[0]={'energy_per_compute_fJ': {'MAC': 15574.6, 'reg': 24.14, 'psum_spad': 1257.6, 'weight_spad': 858.75, 'iact_spad': 11.0, 'DRAM': 287968.75, 'Total': 305694.83}, 'total_energy_uJ': 1312949.31, 'memory_energy_pJ': {'MAC': 66892397648.28, 'reg': 103689852.08, 'psum_spad': 5401318789.22, 'weight_spad': 3688258068.28, 'iact_spad': 47223345.36, 'DRAM': 137438953472.0}, 'memory_traffic': {'reg': 4831838208, 'psum_spad': 25761415168, 'weight_spad': 10737418240, 'iact_spad': 1077936128, 'DRAM': 19327352832}, 'utilization_percent': {'MAC': 1.0, 'overall': 0.39}, 'computes_per_cycle': 1.0, 'actual_computes': 4294967296, 'cycles': 4294967296}\n",
      "combined_stats={'total_energy_uJ': 5251940.53, 'memory_energy_pJ': defaultdict(<class 'float'>, {'MAC': 267703375394.77, 'reg': 414966788.02, 'psum_spad': 21610211638.99, 'weight_spad': 14757035612.33, 'iact_spad': 188987828.12, 'DRAM': 549755813888.0}), 'memory_traffic': defaultdict(<class 'int'>, {'reg': 19337016508, 'psum_spad': 103045660672, 'weight_spad': 42949672960, 'iact_spad': 3238120128, 'DRAM': 77309411328}), 'energy_per_compute_fJ': {'MAC': 15574.6, 'reg': 24.14, 'psum_spad': 1257.256309937946, 'weight_spad': 858.5511290890718, 'iact_spad': 11.0, 'DRAM': 287824.85321063414, 'Total': 305550.39565215993}, 'utilization_percent': {'MAC': 1.0, 'overall': 0.39}, 'computes_per_cycle': 1.0, 'total_actual_computes': 17188459119, 'total_cycles': 17188459119}\n",
      "[INFO] 2025-05-02 23:08:21,934 - pytimeloop.accelergy_interface - Running Accelergy with command: accelergy /home/workspace/final_project/output_dir/parsed-processed-input.yaml -o ./output_dir/ -v\n"
     ]
    },
    {
     "name": "stderr",
     "output_type": "stream",
     "text": [
      "INFO:pytimeloop.accelergy_interface:Running Accelergy with command: accelergy /home/workspace/final_project/output_dir/parsed-processed-input.yaml -o ./output_dir/ -v\n"
     ]
    },
    {
     "name": "stdout",
     "output_type": "stream",
     "text": [
      "[INFO] 2025-05-02 23:08:28,176 - pytimeloop.accelergy_interface - Running Accelergy with command: accelergy /home/workspace/final_project/output_dir/parsed-processed-input.yaml -o ./output_dir/ -v\n"
     ]
    },
    {
     "name": "stderr",
     "output_type": "stream",
     "text": [
      "INFO:pytimeloop.accelergy_interface:Running Accelergy with command: accelergy /home/workspace/final_project/output_dir/parsed-processed-input.yaml -o ./output_dir/ -v\n"
     ]
    },
    {
     "name": "stdout",
     "output_type": "stream",
     "text": [
      "[INFO] 2025-05-02 23:08:31,174 - pytimeloop.accelergy_interface - Running Accelergy with command: accelergy /home/workspace/final_project/output_dir/parsed-processed-input.yaml -o ./output_dir/ -v\n"
     ]
    },
    {
     "name": "stderr",
     "output_type": "stream",
     "text": [
      "INFO:pytimeloop.accelergy_interface:Running Accelergy with command: accelergy /home/workspace/final_project/output_dir/parsed-processed-input.yaml -o ./output_dir/ -v\n"
     ]
    },
    {
     "name": "stdout",
     "output_type": "stream",
     "text": [
      "parsed_runs[0]={'energy_per_compute_fJ': {'MAC': 15574.6, 'reg': 22.18, 'psum_spad': 1257.6, 'weight_spad': 2036.82, 'iact_spad': 13.48, 'DRAM': 387937.5, 'Total': 406842.16}, 'total_energy_uJ': 1747373.79, 'memory_energy_pJ': {'MAC': 66892397648.28, 'reg': 95249006.54, 'psum_spad': 5401318789.22, 'weight_spad': 8748023748.23, 'iact_spad': 57873825.32, 'DRAM': 549755813888.0}, 'memory_traffic': {'reg': 4563402752, 'psum_spad': 25761415168, 'weight_spad': 17179869184, 'iact_spad': 1073741824, 'DRAM': 26302480384}, 'utilization_percent': {'MAC': 1.0, 'overall': 0.39}, 'computes_per_cycle': 1.0, 'actual_computes': 4294967296, 'cycles': 4294967296}\n",
      "combined_stats={'total_energy_uJ': 6989672.5600000005, 'memory_energy_pJ': defaultdict(<class 'float'>, {'MAC': 267703375394.77, 'reg': 381186524.1700001, 'psum_spad': 21610211638.99, 'weight_spad': 34996098332.13, 'iact_spad': 231611048.93, 'DRAM': 2199023255552.0}), 'memory_traffic': defaultdict(<class 'int'>, {'reg': 18262737813, 'psum_spad': 103045660672, 'weight_spad': 68719476736, 'iact_spad': 3223372955, 'DRAM': 105209921536}), 'energy_per_compute_fJ': {'MAC': 15574.6, 'reg': 22.18, 'psum_spad': 1257.256309937946, 'weight_spad': 2036.0345113587853, 'iact_spad': 13.48, 'DRAM': 387745.6271813088, 'Total': 406649.16301010177}, 'utilization_percent': {'MAC': 1.0, 'overall': 0.39}, 'computes_per_cycle': 1.0, 'total_actual_computes': 17188459119, 'total_cycles': 17188459119}\n",
      "[INFO] 2025-05-02 23:08:34,191 - pytimeloop.accelergy_interface - Running Accelergy with command: accelergy /home/workspace/final_project/output_dir/parsed-processed-input.yaml -o ./output_dir/ -v\n"
     ]
    },
    {
     "name": "stderr",
     "output_type": "stream",
     "text": [
      "INFO:pytimeloop.accelergy_interface:Running Accelergy with command: accelergy /home/workspace/final_project/output_dir/parsed-processed-input.yaml -o ./output_dir/ -v\n"
     ]
    },
    {
     "name": "stdout",
     "output_type": "stream",
     "text": [
      "[INFO] 2025-05-02 23:08:37,205 - pytimeloop.accelergy_interface - Running Accelergy with command: accelergy /home/workspace/final_project/output_dir/parsed-processed-input.yaml -o ./output_dir/ -v\n"
     ]
    },
    {
     "name": "stderr",
     "output_type": "stream",
     "text": [
      "INFO:pytimeloop.accelergy_interface:Running Accelergy with command: accelergy /home/workspace/final_project/output_dir/parsed-processed-input.yaml -o ./output_dir/ -v\n"
     ]
    },
    {
     "name": "stdout",
     "output_type": "stream",
     "text": [
      "[INFO] 2025-05-02 23:08:40,212 - pytimeloop.accelergy_interface - Running Accelergy with command: accelergy /home/workspace/final_project/output_dir/parsed-processed-input.yaml -o ./output_dir/ -v\n"
     ]
    },
    {
     "name": "stderr",
     "output_type": "stream",
     "text": [
      "INFO:pytimeloop.accelergy_interface:Running Accelergy with command: accelergy /home/workspace/final_project/output_dir/parsed-processed-input.yaml -o ./output_dir/ -v\n"
     ]
    },
    {
     "name": "stdout",
     "output_type": "stream",
     "text": [
      "parsed_runs[0]={'energy_per_compute_fJ': {'MAC': 15574.6, 'reg': 21.19, 'psum_spad': 1257.6, 'weight_spad': 3805.51, 'iact_spad': 2.8, 'DRAM': 383968.75, 'Total': 404630.45}, 'total_energy_uJ': 1737874.53, 'memory_energy_pJ': {'MAC': 66892397648.28, 'reg': 91028583.77, 'psum_spad': 5401318789.22, 'weight_spad': 16344501668.81, 'iact_spad': 12007378.41, 'DRAM': 549755813888.0}, 'memory_traffic': {'reg': 4429185024, 'psum_spad': 25761415168, 'weight_spad': 17179869184, 'iact_spad': 272629760, 'DRAM': 25769803776}, 'utilization_percent': {'MAC': 1.0, 'overall': 0.39}, 'computes_per_cycle': 1.0, 'actual_computes': 4294967296, 'cycles': 4294967296}\n",
      "combined_stats={'total_energy_uJ': 6951643.91, 'memory_energy_pJ': defaultdict(<class 'float'>, {'MAC': 267703375394.77, 'reg': 364296392.25, 'psum_spad': 21610211638.99, 'weight_spad': 65384595948.06, 'iact_spad': 48053528.41, 'DRAM': 2199023255552.0}), 'memory_traffic': defaultdict(<class 'int'>, {'reg': 17725598466, 'psum_spad': 103045660672, 'weight_spad': 68719476736, 'iact_spad': 818979799, 'DRAM': 103079215104}), 'energy_per_compute_fJ': {'MAC': 15574.6, 'reg': 21.189999999999998, 'psum_spad': 1257.256309937946, 'weight_spad': 3803.988711651217, 'iact_spad': 2.8, 'DRAM': 383776.87719630136, 'Total': 404436.7172203892}, 'utilization_percent': {'MAC': 1.0, 'overall': 0.39}, 'computes_per_cycle': 1.0, 'total_actual_computes': 17188459119, 'total_cycles': 17188459119}\n",
      "[INFO] 2025-05-02 23:08:43,184 - pytimeloop.accelergy_interface - Running Accelergy with command: accelergy /home/workspace/final_project/output_dir/parsed-processed-input.yaml -o ./output_dir/ -v\n"
     ]
    },
    {
     "name": "stderr",
     "output_type": "stream",
     "text": [
      "INFO:pytimeloop.accelergy_interface:Running Accelergy with command: accelergy /home/workspace/final_project/output_dir/parsed-processed-input.yaml -o ./output_dir/ -v\n"
     ]
    },
    {
     "name": "stdout",
     "output_type": "stream",
     "text": [
      "[INFO] 2025-05-02 23:08:46,161 - pytimeloop.accelergy_interface - Running Accelergy with command: accelergy /home/workspace/final_project/output_dir/parsed-processed-input.yaml -o ./output_dir/ -v\n"
     ]
    },
    {
     "name": "stderr",
     "output_type": "stream",
     "text": [
      "INFO:pytimeloop.accelergy_interface:Running Accelergy with command: accelergy /home/workspace/final_project/output_dir/parsed-processed-input.yaml -o ./output_dir/ -v\n"
     ]
    },
    {
     "name": "stdout",
     "output_type": "stream",
     "text": [
      "[INFO] 2025-05-02 23:08:49,142 - pytimeloop.accelergy_interface - Running Accelergy with command: accelergy /home/workspace/final_project/output_dir/parsed-processed-input.yaml -o ./output_dir/ -v\n"
     ]
    },
    {
     "name": "stderr",
     "output_type": "stream",
     "text": [
      "INFO:pytimeloop.accelergy_interface:Running Accelergy with command: accelergy /home/workspace/final_project/output_dir/parsed-processed-input.yaml -o ./output_dir/ -v\n"
     ]
    },
    {
     "name": "stdout",
     "output_type": "stream",
     "text": [
      "parsed_runs[0]={'energy_per_compute_fJ': {'MAC': 15574.6, 'reg': 22.18, 'psum_spad': 1257.6, 'weight_spad': 1251.44, 'iact_spad': 13.48, 'DRAM': 323937.5, 'Total': 342056.79}, 'total_energy_uJ': 1469122.71, 'memory_energy_pJ': {'MAC': 66892397648.28, 'reg': 95249006.54, 'psum_spad': 5401318789.22, 'weight_spad': 5374846628.27, 'iact_spad': 57873825.32, 'DRAM': 274877906944.0}, 'memory_traffic': {'reg': 4563402752, 'psum_spad': 25761415168, 'weight_spad': 12884901888, 'iact_spad': 1073741824, 'DRAM': 22007513088}, 'utilization_percent': {'MAC': 1.0, 'overall': 0.39}, 'computes_per_cycle': 1.0, 'actual_computes': 4294967296, 'cycles': 4294967296}\n",
      "combined_stats={'total_energy_uJ': 5876668.220000001, 'memory_energy_pJ': defaultdict(<class 'float'>, {'MAC': 267703375394.77, 'reg': 381186524.1700001, 'psum_spad': 21610211638.99, 'weight_spad': 21503389852.28, 'iact_spad': 231611048.93, 'DRAM': 1099511627776.0}), 'memory_traffic': defaultdict(<class 'int'>, {'reg': 18262737813, 'psum_spad': 103045660672, 'weight_spad': 51539607552, 'iact_spad': 3229815406, 'DRAM': 88030052352}), 'energy_per_compute_fJ': {'MAC': 15574.6, 'reg': 22.18, 'psum_spad': 1257.256309937946, 'weight_spad': 1251.0472556793927, 'iact_spad': 13.48, 'DRAM': 323777.611190864, 'Total': 341896.1647564814}, 'utilization_percent': {'MAC': 1.0, 'overall': 0.39}, 'computes_per_cycle': 1.0, 'total_actual_computes': 17188459119, 'total_cycles': 17188459119}\n",
      "[INFO] 2025-05-02 23:08:52,164 - pytimeloop.accelergy_interface - Running Accelergy with command: accelergy /home/workspace/final_project/output_dir/parsed-processed-input.yaml -o ./output_dir/ -v\n"
     ]
    },
    {
     "name": "stderr",
     "output_type": "stream",
     "text": [
      "INFO:pytimeloop.accelergy_interface:Running Accelergy with command: accelergy /home/workspace/final_project/output_dir/parsed-processed-input.yaml -o ./output_dir/ -v\n"
     ]
    },
    {
     "name": "stdout",
     "output_type": "stream",
     "text": [
      "[INFO] 2025-05-02 23:08:55,150 - pytimeloop.accelergy_interface - Running Accelergy with command: accelergy /home/workspace/final_project/output_dir/parsed-processed-input.yaml -o ./output_dir/ -v\n"
     ]
    },
    {
     "name": "stderr",
     "output_type": "stream",
     "text": [
      "INFO:pytimeloop.accelergy_interface:Running Accelergy with command: accelergy /home/workspace/final_project/output_dir/parsed-processed-input.yaml -o ./output_dir/ -v\n"
     ]
    },
    {
     "name": "stdout",
     "output_type": "stream",
     "text": [
      "[INFO] 2025-05-02 23:08:58,161 - pytimeloop.accelergy_interface - Running Accelergy with command: accelergy /home/workspace/final_project/output_dir/parsed-processed-input.yaml -o ./output_dir/ -v\n"
     ]
    },
    {
     "name": "stderr",
     "output_type": "stream",
     "text": [
      "INFO:pytimeloop.accelergy_interface:Running Accelergy with command: accelergy /home/workspace/final_project/output_dir/parsed-processed-input.yaml -o ./output_dir/ -v\n"
     ]
    },
    {
     "name": "stdout",
     "output_type": "stream",
     "text": [
      "parsed_runs[0]={'energy_per_compute_fJ': {'MAC': 15574.6, 'reg': 51.66, 'psum_spad': 1257.6, 'weight_spad': 1251.44, 'iact_spad': 215.6, 'DRAM': 383937.5, 'Total': 402288.39}, 'total_energy_uJ': 1727815.47, 'memory_energy_pJ': {'MAC': 66892397648.28, 'reg': 221861689.64, 'psum_spad': 5401318789.22, 'weight_spad': 5374846628.27, 'iact_spad': 925981205.12, 'DRAM': 274877906944.0}, 'memory_traffic': {'reg': 8589934592, 'psum_spad': 25761415168, 'weight_spad': 12884901888, 'iact_spad': 17179869184, 'DRAM': 30060576768}, 'utilization_percent': {'MAC': 1.0, 'overall': 0.39}, 'computes_per_cycle': 1.0, 'actual_computes': 4294967296, 'cycles': 4294967296}\n",
      "combined_stats={'total_energy_uJ': 6911956.649999999, 'memory_energy_pJ': defaultdict(<class 'float'>, {'MAC': 267703375394.77, 'reg': 887890481.93, 'psum_spad': 21610211638.99, 'weight_spad': 21503389852.28, 'iact_spad': 3705776782.8900003, 'DRAM': 1099511627776.0}), 'memory_traffic': defaultdict(<class 'int'>, {'reg': 34376918237, 'psum_spad': 103045660672, 'weight_spad': 51539607552, 'iact_spad': 51573967290, 'DRAM': 120242307072}), 'energy_per_compute_fJ': {'MAC': 15574.6, 'reg': 51.66, 'psum_spad': 1257.256309937946, 'weight_spad': 1251.0472556793927, 'iact_spad': 215.6, 'DRAM': 383777.611190864, 'Total': 402127.7647564814}, 'utilization_percent': {'MAC': 1.0, 'overall': 0.39}, 'computes_per_cycle': 1.0, 'total_actual_computes': 17188459119, 'total_cycles': 17188459119}\n",
      "[INFO] 2025-05-02 23:09:01,158 - pytimeloop.accelergy_interface - Running Accelergy with command: accelergy /home/workspace/final_project/output_dir/parsed-processed-input.yaml -o ./output_dir/ -v\n"
     ]
    },
    {
     "name": "stderr",
     "output_type": "stream",
     "text": [
      "INFO:pytimeloop.accelergy_interface:Running Accelergy with command: accelergy /home/workspace/final_project/output_dir/parsed-processed-input.yaml -o ./output_dir/ -v\n"
     ]
    },
    {
     "name": "stdout",
     "output_type": "stream",
     "text": [
      "[INFO] 2025-05-02 23:09:04,142 - pytimeloop.accelergy_interface - Running Accelergy with command: accelergy /home/workspace/final_project/output_dir/parsed-processed-input.yaml -o ./output_dir/ -v\n"
     ]
    },
    {
     "name": "stderr",
     "output_type": "stream",
     "text": [
      "INFO:pytimeloop.accelergy_interface:Running Accelergy with command: accelergy /home/workspace/final_project/output_dir/parsed-processed-input.yaml -o ./output_dir/ -v\n"
     ]
    },
    {
     "name": "stdout",
     "output_type": "stream",
     "text": [
      "[INFO] 2025-05-02 23:09:07,153 - pytimeloop.accelergy_interface - Running Accelergy with command: accelergy /home/workspace/final_project/output_dir/parsed-processed-input.yaml -o ./output_dir/ -v\n"
     ]
    },
    {
     "name": "stderr",
     "output_type": "stream",
     "text": [
      "INFO:pytimeloop.accelergy_interface:Running Accelergy with command: accelergy /home/workspace/final_project/output_dir/parsed-processed-input.yaml -o ./output_dir/ -v\n"
     ]
    },
    {
     "name": "stdout",
     "output_type": "stream",
     "text": [
      "parsed_runs[0]={'energy_per_compute_fJ': {'MAC': 15574.6, 'reg': 35.93, 'psum_spad': 915.97, 'weight_spad': 2036.82, 'iact_spad': 107.8, 'DRAM': 287937.5, 'Total': 306608.62}, 'total_energy_uJ': 1316874.01, 'memory_energy_pJ': {'MAC': 66892397648.28, 'reg': 154334925.32, 'psum_spad': 3934063471.62, 'weight_spad': 8748023748.23, 'iact_spad': 462990602.56, 'DRAM': 549755813888.0}, 'memory_traffic': {'reg': 6442450944, 'psum_spad': 21466447872, 'weight_spad': 17179869184, 'iact_spad': 8589934592, 'DRAM': 21470642176}, 'utilization_percent': {'MAC': 1.0, 'overall': 0.39}, 'computes_per_cycle': 1.0, 'actual_computes': 4294967296, 'cycles': 4294967296}\n",
      "combined_stats={'total_energy_uJ': 5267914.879999999, 'memory_energy_pJ': defaultdict(<class 'float'>, {'MAC': 267703375394.77, 'reg': 617648371.13, 'psum_spad': 15741190368.61, 'weight_spad': 34996098332.13, 'iact_spad': 1852888391.4499998, 'DRAM': 2199023255552.0}), 'memory_traffic': defaultdict(<class 'int'>, {'reg': 25782688677, 'psum_spad': 85865791488, 'weight_spad': 68719476736, 'iact_spad': 25804163514, 'DRAM': 85882568704}), 'energy_per_compute_fJ': {'MAC': 15574.6, 'reg': 35.92999999999999, 'psum_spad': 915.8015382753432, 'weight_spad': 2036.0345113587853, 'iact_spad': 107.8, 'DRAM': 287809.5952004192, 'Total': 306479.7612500534}, 'utilization_percent': {'MAC': 1.0, 'overall': 0.39}, 'computes_per_cycle': 1.0, 'total_actual_computes': 17188459119, 'total_cycles': 17188459119}\n",
      "[INFO] 2025-05-02 23:09:10,138 - pytimeloop.accelergy_interface - Running Accelergy with command: accelergy /home/workspace/final_project/output_dir/parsed-processed-input.yaml -o ./output_dir/ -v\n"
     ]
    },
    {
     "name": "stderr",
     "output_type": "stream",
     "text": [
      "INFO:pytimeloop.accelergy_interface:Running Accelergy with command: accelergy /home/workspace/final_project/output_dir/parsed-processed-input.yaml -o ./output_dir/ -v\n"
     ]
    },
    {
     "name": "stdout",
     "output_type": "stream",
     "text": [
      "[INFO] 2025-05-02 23:09:13,116 - pytimeloop.accelergy_interface - Running Accelergy with command: accelergy /home/workspace/final_project/output_dir/parsed-processed-input.yaml -o ./output_dir/ -v\n"
     ]
    },
    {
     "name": "stderr",
     "output_type": "stream",
     "text": [
      "INFO:pytimeloop.accelergy_interface:Running Accelergy with command: accelergy /home/workspace/final_project/output_dir/parsed-processed-input.yaml -o ./output_dir/ -v\n"
     ]
    },
    {
     "name": "stdout",
     "output_type": "stream",
     "text": [
      "[INFO] 2025-05-02 23:09:16,099 - pytimeloop.accelergy_interface - Running Accelergy with command: accelergy /home/workspace/final_project/output_dir/parsed-processed-input.yaml -o ./output_dir/ -v\n"
     ]
    },
    {
     "name": "stderr",
     "output_type": "stream",
     "text": [
      "INFO:pytimeloop.accelergy_interface:Running Accelergy with command: accelergy /home/workspace/final_project/output_dir/parsed-processed-input.yaml -o ./output_dir/ -v\n"
     ]
    },
    {
     "name": "stdout",
     "output_type": "stream",
     "text": [
      "parsed_runs[0]={'energy_per_compute_fJ': {'MAC': 15574.6, 'reg': 51.66, 'psum_spad': 1257.6, 'weight_spad': 466.83, 'iact_spad': 119.49, 'DRAM': 272000.0, 'Total': 289470.17}, 'total_energy_uJ': 1243264.92, 'memory_energy_pJ': {'MAC': 66892397648.28, 'reg': 221861689.64, 'psum_spad': 5401318789.22, 'weight_spad': 2004963626.58, 'iact_spad': 513223036.82, 'DRAM': 268435456.0}, 'memory_traffic': {'reg': 8589934592, 'psum_spad': 25761415168, 'weight_spad': 8594128896, 'iact_spad': 10737418240, 'DRAM': 19327352832}, 'utilization_percent': {'MAC': 1.0, 'overall': 0.39}, 'computes_per_cycle': 1.0, 'actual_computes': 4294967296, 'cycles': 4294967296}\n",
      "combined_stats={'total_energy_uJ': 4973341.32, 'memory_energy_pJ': defaultdict(<class 'float'>, {'MAC': 267703375394.77, 'reg': 887890481.93, 'psum_spad': 21610211638.99, 'weight_spad': 8023857845.53, 'iact_spad': 2053918593.3400002, 'DRAM': 1073741824.0}), 'memory_traffic': defaultdict(<class 'int'>, {'reg': 34376918237, 'psum_spad': 103045660672, 'weight_spad': 34376515584, 'iact_spad': 32384053411, 'DRAM': 77309411328}), 'energy_per_compute_fJ': {'MAC': 15574.6, 'reg': 51.66, 'psum_spad': 1257.256309937946, 'weight_spad': 466.82635683067366, 'iact_spad': 119.49000000000001, 'DRAM': 271872.0639767717, 'Total': 289341.89165103657}, 'utilization_percent': {'MAC': 1.0, 'overall': 0.39}, 'computes_per_cycle': 1.0, 'total_actual_computes': 17188459119, 'total_cycles': 17188459119}\n",
      "[INFO] 2025-05-02 23:09:19,110 - pytimeloop.accelergy_interface - Running Accelergy with command: accelergy /home/workspace/final_project/output_dir/parsed-processed-input.yaml -o ./output_dir/ -v\n"
     ]
    },
    {
     "name": "stderr",
     "output_type": "stream",
     "text": [
      "INFO:pytimeloop.accelergy_interface:Running Accelergy with command: accelergy /home/workspace/final_project/output_dir/parsed-processed-input.yaml -o ./output_dir/ -v\n"
     ]
    },
    {
     "name": "stdout",
     "output_type": "stream",
     "text": [
      "[INFO] 2025-05-02 23:09:22,149 - pytimeloop.accelergy_interface - Running Accelergy with command: accelergy /home/workspace/final_project/output_dir/parsed-processed-input.yaml -o ./output_dir/ -v\n"
     ]
    },
    {
     "name": "stderr",
     "output_type": "stream",
     "text": [
      "INFO:pytimeloop.accelergy_interface:Running Accelergy with command: accelergy /home/workspace/final_project/output_dir/parsed-processed-input.yaml -o ./output_dir/ -v\n"
     ]
    },
    {
     "name": "stdout",
     "output_type": "stream",
     "text": [
      "[INFO] 2025-05-02 23:09:25,132 - pytimeloop.accelergy_interface - Running Accelergy with command: accelergy /home/workspace/final_project/output_dir/parsed-processed-input.yaml -o ./output_dir/ -v\n"
     ]
    },
    {
     "name": "stderr",
     "output_type": "stream",
     "text": [
      "INFO:pytimeloop.accelergy_interface:Running Accelergy with command: accelergy /home/workspace/final_project/output_dir/parsed-processed-input.yaml -o ./output_dir/ -v\n"
     ]
    },
    {
     "name": "stdout",
     "output_type": "stream",
     "text": [
      "parsed_runs[0]={'energy_per_compute_fJ': {'MAC': 15574.6, 'reg': 51.66, 'psum_spad': 1257.6, 'weight_spad': 466.83, 'iact_spad': 215.6, 'DRAM': 320000.0, 'Total': 337566.28}, 'total_energy_uJ': 1449836.11, 'memory_energy_pJ': {'MAC': 66892397648.28, 'reg': 221861689.64, 'psum_spad': 5401318789.22, 'weight_spad': 2004963626.58, 'iact_spad': 925981205.12, 'DRAM': 268435456.0}, 'memory_traffic': {'reg': 8589934592, 'psum_spad': 25761415168, 'weight_spad': 8594128896, 'iact_spad': 17179869184, 'DRAM': 25769803776}, 'utilization_percent': {'MAC': 1.0, 'overall': 0.39}, 'computes_per_cycle': 1.0, 'actual_computes': 4294967296, 'cycles': 4294967296}\n",
      "combined_stats={'total_energy_uJ': 5800039.22, 'memory_energy_pJ': defaultdict(<class 'float'>, {'MAC': 267703375394.77, 'reg': 887890481.93, 'psum_spad': 21610211638.99, 'weight_spad': 8023857845.53, 'iact_spad': 3705776782.8900003, 'DRAM': 1073741824.0}), 'memory_traffic': defaultdict(<class 'int'>, {'reg': 34376918237, 'psum_spad': 103045660672, 'weight_spad': 34376515584, 'iact_spad': 51814485458, 'DRAM': 103079215104}), 'energy_per_compute_fJ': {'MAC': 15574.6, 'reg': 51.66, 'psum_spad': 1257.256309937946, 'weight_spad': 466.82635683067366, 'iact_spad': 215.6, 'DRAM': 319872.0639667767, 'Total': 337438.00163604406}, 'utilization_percent': {'MAC': 1.0, 'overall': 0.39}, 'computes_per_cycle': 1.0, 'total_actual_computes': 17188459119, 'total_cycles': 17188459119}\n",
      "[INFO] 2025-05-02 23:09:28,173 - pytimeloop.accelergy_interface - Running Accelergy with command: accelergy /home/workspace/final_project/output_dir/parsed-processed-input.yaml -o ./output_dir/ -v\n"
     ]
    },
    {
     "name": "stderr",
     "output_type": "stream",
     "text": [
      "INFO:pytimeloop.accelergy_interface:Running Accelergy with command: accelergy /home/workspace/final_project/output_dir/parsed-processed-input.yaml -o ./output_dir/ -v\n"
     ]
    },
    {
     "name": "stdout",
     "output_type": "stream",
     "text": [
      "[INFO] 2025-05-02 23:09:31,150 - pytimeloop.accelergy_interface - Running Accelergy with command: accelergy /home/workspace/final_project/output_dir/parsed-processed-input.yaml -o ./output_dir/ -v\n"
     ]
    },
    {
     "name": "stderr",
     "output_type": "stream",
     "text": [
      "INFO:pytimeloop.accelergy_interface:Running Accelergy with command: accelergy /home/workspace/final_project/output_dir/parsed-processed-input.yaml -o ./output_dir/ -v\n"
     ]
    },
    {
     "name": "stdout",
     "output_type": "stream",
     "text": [
      "[INFO] 2025-05-02 23:09:34,197 - pytimeloop.accelergy_interface - Running Accelergy with command: accelergy /home/workspace/final_project/output_dir/parsed-processed-input.yaml -o ./output_dir/ -v\n"
     ]
    },
    {
     "name": "stderr",
     "output_type": "stream",
     "text": [
      "INFO:pytimeloop.accelergy_interface:Running Accelergy with command: accelergy /home/workspace/final_project/output_dir/parsed-processed-input.yaml -o ./output_dir/ -v\n"
     ]
    },
    {
     "name": "stdout",
     "output_type": "stream",
     "text": [
      "parsed_runs[0]={'energy_per_compute_fJ': {'MAC': 15574.6, 'reg': 22.18, 'psum_spad': 1257.6, 'weight_spad': 2036.82, 'iact_spad': 13.48, 'DRAM': 387937.5, 'Total': 406842.16}, 'total_energy_uJ': 1747373.79, 'memory_energy_pJ': {'MAC': 66892397648.28, 'reg': 95249006.54, 'psum_spad': 5401318789.22, 'weight_spad': 8748023748.23, 'iact_spad': 57873825.32, 'DRAM': 549755813888.0}, 'memory_traffic': {'reg': 4563402752, 'psum_spad': 25761415168, 'weight_spad': 17179869184, 'iact_spad': 1073741824, 'DRAM': 26302480384}, 'utilization_percent': {'MAC': 1.0, 'overall': 0.39}, 'computes_per_cycle': 1.0, 'actual_computes': 4294967296, 'cycles': 4294967296}\n",
      "combined_stats={'total_energy_uJ': 6989672.5600000005, 'memory_energy_pJ': defaultdict(<class 'float'>, {'MAC': 267703375394.77, 'reg': 381186524.1700001, 'psum_spad': 21610211638.99, 'weight_spad': 34996098332.13, 'iact_spad': 231611048.93, 'DRAM': 2199023255552.0}), 'memory_traffic': defaultdict(<class 'int'>, {'reg': 18262737813, 'psum_spad': 103045660672, 'weight_spad': 68719476736, 'iact_spad': 3225520439, 'DRAM': 105209921536}), 'energy_per_compute_fJ': {'MAC': 15574.6, 'reg': 22.18, 'psum_spad': 1257.256309937946, 'weight_spad': 2036.0345113587853, 'iact_spad': 13.48, 'DRAM': 387745.6271813088, 'Total': 406649.16301010177}, 'utilization_percent': {'MAC': 1.0, 'overall': 0.39}, 'computes_per_cycle': 1.0, 'total_actual_computes': 17188459119, 'total_cycles': 17188459119}\n",
      "==================OUTPUT==================\n",
      "min_config:  {'total_energy_uJ': {'matrix_size_M_dim': 2048, 'matrix_size_K_dim': 2048, 'matrix_size_N_dim': 2048, 'DRAM_factor_M': 1024, 'DRAM_factor_N': 128, 'DRAM_factor_K': 512, 'DRAM_permutation': ['M', 'N', 'K'], 'ClusterArray_factor_M': 1, 'ClusterArray_factor_N': 1, 'ClusterArray_factor_K': 1, 'ClusterArray_permutation': ['N', 'K', 'M'], 'PE_Cluster_factor_M': 1, 'PE_Cluster_factor_N': 1, 'PE_Cluster_factor_K': 1, 'PE_Cluster_permutation': ['N', 'M', 'K'], 'iact_spad_factor_M': 2, 'iact_spad_factor_N': 1, 'iact_spad_factor_K': 1, 'iact_spad_permutation': ['M', 'K', 'N'], 'weight_spad_factor_M': 1, 'weight_spad_factor_N': 8, 'weight_spad_factor_K': 4, 'weight_spad_permutation': ['K', 'M', 'N'], 'psum_factor_M': 1, 'psum_factor_N': 2, 'psum_factor_K': 1, 'psum_permutation': ['N', 'K', 'M'], 'reg_factor_M': 1, 'reg_factor_N': 1, 'reg_factor_K': 1, 'reg_permutation': ['K', 'N', 'M'], 'density_weights': 1, 'density_inputs': 1}, 'utilization_percent': {'matrix_size_M_dim': 2048, 'matrix_size_K_dim': 2048, 'matrix_size_N_dim': 2048, 'DRAM_factor_M': 1024, 'DRAM_factor_N': 128, 'DRAM_factor_K': 512, 'DRAM_permutation': ['M', 'N', 'K'], 'ClusterArray_factor_M': 1, 'ClusterArray_factor_N': 1, 'ClusterArray_factor_K': 1, 'ClusterArray_permutation': ['N', 'K', 'M'], 'PE_Cluster_factor_M': 1, 'PE_Cluster_factor_N': 1, 'PE_Cluster_factor_K': 1, 'PE_Cluster_permutation': ['N', 'M', 'K'], 'iact_spad_factor_M': 2, 'iact_spad_factor_N': 1, 'iact_spad_factor_K': 1, 'iact_spad_permutation': ['M', 'K', 'N'], 'weight_spad_factor_M': 1, 'weight_spad_factor_N': 8, 'weight_spad_factor_K': 4, 'weight_spad_permutation': ['K', 'M', 'N'], 'psum_factor_M': 1, 'psum_factor_N': 2, 'psum_factor_K': 1, 'psum_permutation': ['N', 'K', 'M'], 'reg_factor_M': 1, 'reg_factor_N': 1, 'reg_factor_K': 1, 'reg_permutation': ['K', 'N', 'M'], 'density_weights': 1, 'density_inputs': 1}, 'computes_per_cycle': {'matrix_size_M_dim': 2048, 'matrix_size_K_dim': 2048, 'matrix_size_N_dim': 2048, 'DRAM_factor_M': 1024, 'DRAM_factor_N': 128, 'DRAM_factor_K': 512, 'DRAM_permutation': ['M', 'N', 'K'], 'ClusterArray_factor_M': 1, 'ClusterArray_factor_N': 1, 'ClusterArray_factor_K': 1, 'ClusterArray_permutation': ['N', 'K', 'M'], 'PE_Cluster_factor_M': 1, 'PE_Cluster_factor_N': 1, 'PE_Cluster_factor_K': 1, 'PE_Cluster_permutation': ['N', 'M', 'K'], 'iact_spad_factor_M': 2, 'iact_spad_factor_N': 1, 'iact_spad_factor_K': 1, 'iact_spad_permutation': ['M', 'K', 'N'], 'weight_spad_factor_M': 1, 'weight_spad_factor_N': 8, 'weight_spad_factor_K': 4, 'weight_spad_permutation': ['K', 'M', 'N'], 'psum_factor_M': 1, 'psum_factor_N': 2, 'psum_factor_K': 1, 'psum_permutation': ['N', 'K', 'M'], 'reg_factor_M': 1, 'reg_factor_N': 1, 'reg_factor_K': 1, 'reg_permutation': ['K', 'N', 'M'], 'density_weights': 1, 'density_inputs': 1}, 'memory_traffic': {'matrix_size_M_dim': 2048, 'matrix_size_K_dim': 2048, 'matrix_size_N_dim': 2048, 'DRAM_factor_M': 1024, 'DRAM_factor_N': 128, 'DRAM_factor_K': 512, 'DRAM_permutation': ['M', 'N', 'K'], 'ClusterArray_factor_M': 1, 'ClusterArray_factor_N': 1, 'ClusterArray_factor_K': 1, 'ClusterArray_permutation': ['N', 'K', 'M'], 'PE_Cluster_factor_M': 1, 'PE_Cluster_factor_N': 1, 'PE_Cluster_factor_K': 1, 'PE_Cluster_permutation': ['N', 'M', 'K'], 'iact_spad_factor_M': 2, 'iact_spad_factor_N': 1, 'iact_spad_factor_K': 1, 'iact_spad_permutation': ['M', 'K', 'N'], 'weight_spad_factor_M': 1, 'weight_spad_factor_N': 8, 'weight_spad_factor_K': 4, 'weight_spad_permutation': ['K', 'M', 'N'], 'psum_factor_M': 1, 'psum_factor_N': 2, 'psum_factor_K': 1, 'psum_permutation': ['N', 'K', 'M'], 'reg_factor_M': 1, 'reg_factor_N': 1, 'reg_factor_K': 1, 'reg_permutation': ['K', 'N', 'M'], 'density_weights': 1, 'density_inputs': 1}}\n",
      "curr_min:  {'total_energy_uJ': 1467198.14, 'utilization_percent': 0.39, 'computes_per_cycle': 1.0, 'memory_traffic': 171296583318}\n"
     ]
    }
   ],
   "source": [
    "num_of_random_samples = 10\n",
    "attributes = ['total_energy_uJ', 'utilization_percent', 'computes_per_cycle', 'memory_traffic']\n",
    "min_config, curr_min = get_min_config_attention(attributes, num_of_random_samples)\n",
    "print(\"==================OUTPUT==================\")\n",
    "print(\"min_config: \", min_config)\n",
    "print(\"curr_min: \", curr_min)"
   ]
  },
  {
   "cell_type": "code",
   "execution_count": null,
   "id": "379f5dc0-e213-4593-aa5a-3727935245f6",
   "metadata": {},
   "outputs": [],
   "source": [
    "folder = \"data\"\n",
    "name = \"saniya_1\" #Change\n",
    "os.makedirs(f\"{folder}\", exist_ok=True)\n",
    "\n",
    "with open(f\"{folder}/200_min_config_{name}\", \"w\") as f:\n",
    "    json.dump(min_config, f, indent=2)\n",
    "with open(f\"{folder}/200_curr_min_{name}\", \"w\") as f:\n",
    "    json.dump(curr_min, f, indent=2)"
   ]
  },
  {
   "cell_type": "code",
   "execution_count": null,
   "id": "77a7023c-ad37-486b-8c99-0612892979bf",
   "metadata": {},
   "outputs": [],
   "source": [
    "# !timeloop model ./output_dir/parsed-processed-input.yaml"
   ]
  },
  {
   "cell_type": "code",
   "execution_count": null,
   "id": "98adc084-2656-4e30-850a-3b415157cdd7",
   "metadata": {},
   "outputs": [],
   "source": []
  }
 ],
 "metadata": {
  "kernelspec": {
   "display_name": "Python 3 (ipykernel)",
   "language": "python",
   "name": "python3"
  },
  "language_info": {
   "codemirror_mode": {
    "name": "ipython",
    "version": 3
   },
   "file_extension": ".py",
   "mimetype": "text/x-python",
   "name": "python",
   "nbconvert_exporter": "python",
   "pygments_lexer": "ipython3",
   "version": "3.10.12"
  }
 },
 "nbformat": 4,
 "nbformat_minor": 5
}
